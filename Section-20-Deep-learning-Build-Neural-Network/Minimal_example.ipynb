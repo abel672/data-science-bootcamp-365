{
 "cells": [
  {
   "cell_type": "markdown",
   "source": [
    "### Simple Linear Regression. Minimal example\r\n",
    "\r\n",
    "#### Import the relevant libraries"
   ],
   "metadata": {}
  },
  {
   "cell_type": "code",
   "execution_count": null,
   "source": [
    "# numPy contains all the mathematical operations that you need, and is extremely fast.\r\n",
    "import numpy as np\r\n",
    "# to plot data (nice graphs)\r\n",
    "import matplotlib.pyplot as plt\r\n",
    "# nice 3D graphs\r\n",
    "from mpl_toolkits.mplot3d import Axes3D \r\n"
   ],
   "outputs": [],
   "metadata": {}
  }
 ],
 "metadata": {
  "anaconda-cloud": {},
  "kernelspec": {
   "display_name": "Python 3",
   "language": "python",
   "name": "python3"
  },
  "language_info": {
   "codemirror_mode": {
    "name": "ipython",
    "version": 3
   },
   "file_extension": ".py",
   "mimetype": "text/x-python",
   "name": "python",
   "nbconvert_exporter": "python",
   "pygments_lexer": "ipython3",
   "version": "3.6.2"
  }
 },
 "nbformat": 4,
 "nbformat_minor": 1
}