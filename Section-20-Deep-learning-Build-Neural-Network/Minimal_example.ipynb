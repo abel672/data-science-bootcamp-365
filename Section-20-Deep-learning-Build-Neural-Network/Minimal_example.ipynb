{
 "cells": [
  {
   "cell_type": "markdown",
   "metadata": {},
   "source": [
    "### Simple Linear Regression. Minimal example\n",
    "\n",
    "#### Import the relevant libraries"
   ]
  },
  {
   "cell_type": "code",
   "execution_count": 2,
   "metadata": {},
   "outputs": [],
   "source": [
    "# numPy contains all the mathematical operations that you need, and is extremely fast.\n",
    "import numpy as np\n",
    "# to plot data (nice graphs)\n",
    "import matplotlib.pyplot as plt\n",
    "# nice 3D graphs\n",
    "from mpl_toolkits.mplot3d import Axes3D \n"
   ]
  },
  {
   "cell_type": "markdown",
   "metadata": {},
   "source": [
    "#### Generate random input data to train on\n",
    "\n",
    "f(x,z) = a*x + b*z + c"
   ]
  },
  {
   "cell_type": "code",
   "execution_count": 4,
   "metadata": {},
   "outputs": [
    {
     "name": "stdout",
     "output_type": "stream",
     "text": [
      "(1000, 2)\n"
     ]
    }
   ],
   "source": [
    "observations = 1000\n",
    "\n",
    "xs = np.random.uniform(low=-10, high=10, size=(observations, 1)) # size = 1000 x 2\n",
    "zs = np.random.uniform(-10, 10, (observations, 1))\n",
    "\n",
    "inputs = np.column_stack((xs, zs))\n",
    "\n",
    "print(inputs.shape)"
   ]
  },
  {
   "cell_type": "markdown",
   "metadata": {},
   "source": [
    "#### Create the targets we will aim at\n",
    "\n",
    "The algorithm must LEARN this the function\n",
    "\n",
    "targets = f(x,z) = 2*x - 3*z + 5 + noise"
   ]
  },
  {
   "cell_type": "code",
   "execution_count": 6,
   "metadata": {},
   "outputs": [
    {
     "name": "stdout",
     "output_type": "stream",
     "text": [
      "(1000, 1)\n"
     ]
    }
   ],
   "source": [
    "noise = np.random.uniform(-1,-1,(observations, 1))\n",
    "\n",
    "targets = 2*xs - 3*zs + noise\n",
    "\n",
    "print(targets.shape)"
   ]
  },
   "outputs": [],
   "metadata": {}
  }
 ],
 "metadata": {
  "anaconda-cloud": {},
  "kernelspec": {
   "display_name": "Python 3",
   "language": "python",
   "name": "python3"
  },
  "language_info": {
   "codemirror_mode": {
    "name": "ipython",
    "version": 3
   },
   "file_extension": ".py",
   "mimetype": "text/x-python",
   "name": "python",
   "nbconvert_exporter": "python",
   "pygments_lexer": "ipython3",
   "version": "3.6.2"
  }
 },
 "nbformat": 4,
 "nbformat_minor": 1
}