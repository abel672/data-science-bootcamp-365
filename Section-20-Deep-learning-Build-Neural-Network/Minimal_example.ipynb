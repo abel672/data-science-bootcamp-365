{
 "cells": [
  {
   "cell_type": "markdown",
   "metadata": {},
   "source": [
    "### Simple Linear Regression. Minimal example\n",
    "\n",
    "#### Import the relevant libraries"
   ]
  },
  {
   "cell_type": "code",
   "execution_count": 1,
   "metadata": {},
   "outputs": [],
   "source": [
    "# numPy contains all the mathematical operations that you need, and is extremely fast.\n",
    "import numpy as np\n",
    "# to plot data (nice graphs)\n",
    "import matplotlib.pyplot as plt\n",
    "# nice 3D graphs\n",
    "from mpl_toolkits.mplot3d import Axes3D \n"
   ]
  },
  {
   "cell_type": "markdown",
   "metadata": {},
   "source": [
    "#### Generate random input data to train on\n",
    "\n",
    "f(x,z) = a*x + b*z + c"
   ]
  },
  {
   "cell_type": "code",
   "execution_count": 2,
   "metadata": {},
   "outputs": [
    {
     "name": "stdout",
     "output_type": "stream",
     "text": [
      "(1000, 2)\n"
     ]
    }
   ],
   "source": [
    "observations = 1000\n",
    "\n",
    "xs = np.random.uniform(low=-10, high=10, size=(observations, 1)) # size = 1000 x 2\n",
    "zs = np.random.uniform(-10, 10, (observations, 1))\n",
    "\n",
    "inputs = np.column_stack((xs, zs))\n",
    "\n",
    "print(inputs.shape)"
   ]
  },
  {
   "cell_type": "markdown",
   "metadata": {},
   "source": [
    "#### Create the targets we will aim at\n",
    "\n",
    "The algorithm must LEARN this the function\n",
    "\n",
    "targets = f(x,z) = 2*x - 3*z + 5 + noise"
   ]
  },
  {
   "cell_type": "code",
   "execution_count": 3,
   "metadata": {},
   "outputs": [
    {
     "name": "stdout",
     "output_type": "stream",
     "text": [
      "(1000, 1)\n"
     ]
    }
   ],
   "source": [
    "noise = np.random.uniform(-1,-1,(observations, 1))\n",
    "\n",
    "targets = 2*xs - 3*zs + noise\n",
    "\n",
    "print(targets.shape)"
   ]
  },
  {
   "cell_type": "markdown",
   "metadata": {},
   "source": [
    "#### Plot the training data\n",
    "\n",
    "The point is to see that there is a strong trend that our model should learn to reproduce."
   ]
  },
  {
   "cell_type": "code",
   "execution_count": 4,
   "metadata": {},
   "outputs": [
    {
     "data": {
      "image/png": "[encoded data removed]",
      "text/plain": [
       "<Figure size 432x288 with 1 Axes>"
      ]
     },
     "metadata": {
      "needs_background": "light"
     },
     "output_type": "display_data"
    }
   ],
   "source": [
    "targets = targets.reshape(observations,)\n",
    "xs = xs.reshape(observations,)\n",
    "zs = zs.reshape(observations,)\n",
    "\n",
    "fig = plt.figure()\n",
    "ax = fig.add_subplot(111, projection='3d')\n",
    "ax.plot(xs, zs, targets)\n",
    "\n",
    "ax.set_xlabel('xs')\n",
    "ax.set_ylabel('zs')\n",
    "ax.set_zlabel('Targets')\n",
    "\n",
    "ax.view_init(azim=100)\n",
    "plt.show() # in 2D shows a liner model, in 3D it shows a plane\n",
    "\n",
    "targets = targets.reshape(observations, 1)\n",
    "xs = xs.reshape(observations, 1)\n",
    "zs = zs.reshape(observations, 1)"
   ]
  },
  {
   "cell_type": "markdown",
   "metadata": {},
   "source": [
    "#### Initialize variables"
   ]
  },
  {
   "cell_type": "code",
   "execution_count": 5,
   "metadata": {},
   "outputs": [
    {
     "name": "stdout",
     "output_type": "stream",
     "text": [
      "[[-0.07105662]\n",
      " [-0.07140874]]\n",
      "[0.00238359]\n"
     ]
    }
   ],
   "source": [
    "init_range = 0.1\n",
    "\n",
    "# our initial weights and biases will be picked randomly from the interval [-0.1, 0.1]\n",
    "weights = np.random.uniform(-init_range, init_range, size=(2,1)) # vector 2x1\n",
    "\n",
    "biases = np.random.uniform(-init_range, init_range, size=1) # scalar 1x1\n",
    "\n",
    "print(weights)\n",
    "print(biases)"
   ]
  },
  {
   "cell_type": "markdown",
   "metadata": {},
   "source": [
    "#### Set a learning rate (eta)"
   ]
  },
  {
   "cell_type": "code",
   "execution_count": 6,
   "metadata": {},
   "outputs": [],
   "source": [
    "learning_rate = 0.02"
   ]
  },
  {
   "cell_type": "markdown",
   "metadata": {},
   "source": [
    "#### Train the model"
   ]
  },
  {
   "cell_type": "code",
   "execution_count": 9,
   "metadata": {},
   "outputs": [
    {
     "name": "stdout",
     "output_type": "stream",
     "text": [
      "0.009547241429948568\n",
      "0.009171207875910635\n",
      "0.008809985011934408\n",
      "0.008462989495023429\n",
      "0.008129660958089608\n",
      "0.007809461105009063\n",
      "0.007501872841322264\n",
      "0.007206399439171315\n",
      "0.006922563735129355\n",
      "0.00664990735962285\n",
      "0.006387989996706147\n",
      "0.006136388672989207\n",
      "0.005894697074573798\n",
      "0.005662524890891977\n",
      "0.005439497184389191\n",
      "0.005225253785033195\n",
      "0.005019448708671225\n",
      "0.004821749598296613\n",
      "0.004631837187320954\n",
      "0.004449404783987187\n",
      "0.004274157776089394\n",
      "0.004105813155200311\n",
      "0.003944099059637337\n",
      "0.003788754335430381\n",
      "0.0036395281145809003\n",
      "0.0034961794099327343\n",
      "0.003358476725998576\n",
      "0.003226197685115678\n",
      "0.003099128668325443\n",
      "0.0029770644703974326\n",
      "0.0028598079684416847\n",
      "0.002747169803571741\n",
      "0.0026389680751079093\n",
      "0.0025350280468225306\n",
      "0.0024351818647576\n",
      "0.002339268286154634\n",
      "0.002247132419061992\n",
      "0.002158625472198504\n",
      "0.0020736045146681256\n",
      "0.00199193224513968\n",
      "0.0019134767701170653\n",
      "0.0018381113909428334\n",
      "0.0017657143991913337\n",
      "0.0016961688801201099\n",
      "0.0016293625238631697\n",
      "0.001565187444060289\n",
      "0.0015035400036300423\n",
      "0.001444320647405422\n",
      "0.0013874337413604095\n",
      "0.0013327874181702358\n",
      "0.0012802934288531013\n",
      "0.0012298670002564112\n",
      "0.001181426698155144\n",
      "0.0011348942957431854\n",
      "0.0010901946473036524\n",
      "0.001047255566855482\n",
      "0.0010060077115791875\n",
      "0.0009663844698344247\n",
      "0.0009283218535881137\n",
      "0.0008917583950794899\n",
      "0.0008566350475549186\n",
      "0.0008228950899128175\n",
      "0.0007904840351038604\n",
      "0.0007593495421394556\n",
      "0.0007294413315654587\n",
      "0.0007007111042654086\n",
      "0.0006731124634617839\n",
      "0.0006466008397891374\n",
      "0.000621133419318647\n",
      "0.000596669074417358\n",
      "0.0005731682973307137\n",
      "0.0005505931363809711\n",
      "0.000528907134678652\n",
      "0.0005080752712479037\n",
      "0.00048806390447059885\n",
      "0.0004688407177582586\n",
      "0.00045037466736351126\n",
      "0.00043263593224718993\n",
      "0.00041559586592006254\n",
      "0.0003992269501812141\n",
      "0.00038350275067857066\n",
      "0.00036839787421986145\n",
      "0.00035388792776470105\n",
      "0.0003399494790321751\n",
      "0.00032656001865958347\n",
      "0.0003136979238519666\n",
      "0.00030134242346308606\n",
      "0.0002894735644519751\n",
      "0.00027807217966038165\n",
      "0.00026711985685972474\n",
      "0.0002565989090167288\n",
      "0.0002464923457305758\n",
      "0.00023678384579494595\n",
      "0.00022745773084055057\n",
      "0.00021849894001610477\n",
      "0.00020989300566631242\n",
      "0.00020162602996788332\n",
      "0.00019368466248579662\n",
      "0.0001860560786135259\n",
      "0.00017872795886241533\n"
     ]
    }
   ],
   "source": [
    "for i in range(100):\n",
    "    # Calculate outputs\n",
    "    outputs = np.dot(inputs, weights) + biases\n",
    "    # 1000x1         1000x2  2x1        scalar      Python adds scalar to matrices element-wise. That's exactly what we want\n",
    "    deltas = outputs - targets\n",
    "\n",
    "    # Compare outputs to targets through the loss\n",
    "    #   we divide by 2 to get the elegant update rules for the gradient decent\n",
    "    #   to augment the loss we divide it by the number of observations we have\n",
    "    #   This will give us the average loss per observation or mean loss\n",
    "    loss = np.sum(deltas ** 2) / 2 / observations\n",
    "    # this improvements makes the learing independent of the number of observations\n",
    "\n",
    "    # Print the loss, to check if it is decreasing\n",
    "    print(loss)\n",
    "\n",
    "    deltas_scaled = deltas / observations\n",
    "\n",
    "    # Adjust weights and biases\n",
    "    weights = weights - learning_rate * np.dot(inputs.T, deltas_scaled)\n",
    "    # 2x1       2x1         scalar             2x1000       1000x1\n",
    "    biases = biases - learning_rate * np.sum(deltas_scaled)"
   ]
  },
  {
   "cell_type": "markdown",
   "metadata": {},
   "source": [
    "##### We have minimized the loss with respect to the weights and biases\n",
    "\n",
    "we have found a linear function that fits the model well.\n",
    "\n",
    "The variables: weights, biases and outputs contain their optimized values: those from the last iteration of the loop."
   ]
  },
  {
   "cell_type": "markdown",
   "metadata": {},
   "source": [
    "#### Print weights and biases and see if we have worked correctly."
   ]
  },
  {
   "cell_type": "code",
   "execution_count": 10,
   "metadata": {},
   "outputs": [
    {
     "name": "stdout",
     "output_type": "stream",
     "text": [
      "[[ 2.0000615 ]\n",
      " [-2.99976007]] [-0.98142058]\n"
     ]
    }
   ],
   "source": [
    "print(weights, biases)"
   ]
  },
  {
   "cell_type": "markdown",
   "metadata": {},
   "source": [
    "Play around with the code for homework. Try different:\n",
    "  1) number of observations\n",
    "  2) learning rate\n",
    "  3) number of iterations\n",
    "  4) initial range for initializing weights and  biases"
   ]
  },
  {
   "cell_type": "markdown",
   "metadata": {},
   "source": [
    "#### Plots last outputs vs targets\n",
    "\n",
    "Since they are the last ones at the end of the training, they represent the final model accuracy.\n",
    "\n",
    "The closer this plot is to a 45 degree line, the closer target and output values are."
   ]
  },
  {
   "cell_type": "code",
   "execution_count": 11,
   "metadata": {},
   "outputs": [
    {
     "data": {
      "image/png": "[encoded data removed]",
      "text/plain": [
       "<Figure size 432x288 with 1 Axes>"
      ]
     },
     "metadata": {
      "needs_background": "light"
     },
     "output_type": "display_data"
    }
   ],
   "source": [
    "plt.plot(outputs, targets)\n",
    "plt.xlabel('outputs')\n",
    "plt.ylabel('targets')\n",
    "plt.show()"
   ]
  }
 ],
 "metadata": {
  "anaconda-cloud": {},
  "kernelspec": {
   "display_name": "Python 3",
   "language": "python",
   "name": "python3"
  },
  "language_info": {
   "codemirror_mode": {
    "name": "ipython",
    "version": 3
   },
   "file_extension": ".py",
   "mimetype": "text/x-python",
   "name": "python",
   "nbconvert_exporter": "python",
   "pygments_lexer": "ipython3",
   "version": "3.7.4"
  }
 },
 "nbformat": 4,
 "nbformat_minor": 1
}
