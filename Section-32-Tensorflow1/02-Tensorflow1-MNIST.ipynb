{
 "cells": [
  {
   "cell_type": "markdown",
   "metadata": {},
   "source": [
    "#### Imports"
   ]
  },
  {
   "cell_type": "code",
   "execution_count": null,
   "metadata": {},
   "outputs": [],
   "source": [
    "import numpy as np\n",
    "import tensorflow as tf\n",
    "from tensorflow.examples.tutorials.mnist import input_data\n",
    "\n",
    "mnist = input_data.read_data_sets('MNIST_data/', one_hot=True)"
   ]
  },
  {
   "cell_type": "markdown",
   "metadata": {},
   "source": [
    "### Outline the model"
   ]
  },
  {
   "cell_type": "code",
   "execution_count": null,
   "metadata": {},
   "outputs": [],
   "source": [
    "input_size = 784\n",
    "output_size = 10\n",
    "hidden_layer_size = 50\n",
    "\n",
    "tf.reset_default_graph()\n",
    "\n",
    "inputs = tf.placeholder(tf.float32, [None, input_size])\n",
    "targets = tf.placeholder(tf.float32, [None, output_size])\n",
    "\n",
    "# Layers\n",
    "weights_1 = tf.get_variable('weights_1', [input_size, hidden_layer_size])\n",
    "biases_1 = tf.get_variable('biases_1', [hidden_layer_size])\n",
    "\n",
    "outputs_1 = tf.nn.relu(tf.matmul(inputs, weights_1) + biases_1) # Hidden layer\n",
    "\n",
    "weights_2 = tf.get_variable('weights_2', [hidden_layer_size, hidden_layer_size])\n",
    "biases_2 = tf.get_variable('biases_2', [hidden_layer_size])\n",
    "\n",
    "outputs_2 = tf.nn.relu(tf.matmul(outputs_1, weights_2) + biases_2) # Hidden layer\n",
    "\n",
    "weights_3 = tf.get_variable('weights_3', [hidden_layer_size, output_size])\n",
    "biases_3 = tf.get_variable('biases_3', [output_size])\n",
    "\n",
    "outputs = tf.matmul(outputs_2, weights_3) + biases_3 # Output layer\n",
    "\n",
    "# Loss function\n",
    "loss = tf.nn.softmax_cross_entropy_with_logits (logits = outputs, labels = targets)\n",
    "\n",
    "mean_loss = tf.reduce_mean(loss)\n",
    "\n",
    "# Optimization method\n",
    "optimize = tf.train.AdamOptimizer(learning_rate=0.001).minimize(mean_loss)\n",
    "\n",
    "# Prediction accuracy of the model\n",
    "out_equals_targets = tf.equal(tf.argmax(outputs,1), tf.argmax(targets,1))\n",
    "\n",
    "accuracy = tf.reduce_mean(tf.cast(out_equals_targets, tf.float32))"
   ]
  },
  {
   "cell_type": "code",
   "execution_count": null,
   "metadata": {},
   "outputs": [],
   "source": [
    "sess = tf.InteractiveSession()\n",
    "\n",
    "initializer = tf.global_variables_initializer()\n",
    "\n",
    "# Batching and Early Stopping\n",
    "batch_size = 100\n",
    "\n",
    "batches_number = mnist.train._num_examples // batch_size\n",
    "\n",
    "\n",
    "max_epochs = 15\n",
    "\n",
    "prev_validation_loss = 9999999. # This value is large enough to ensure the early stopping won't be triggered on the first epoch."
   ]
  },
  {
   "cell_type": "code",
   "execution_count": null,
   "metadata": {},
   "outputs": [],
   "source": [
    "for epoch_counter in range(max_epochs):\n",
    "\n",
    "    curr_epoch_loss = 0.\n",
    "\n",
    "    for batch_counter in range(batches_number):\n",
    "\n",
    "        input_batch, target_batch = mnist.train.next_batch(batch_size)\n",
    "\n",
    "        _, batch_loss = sess.run([optimize, mean_loss],\n",
    "                                feed_dict={inputs: input_batch, targets: target_batch})\n",
    "        \n",
    "        curr_epoch_loss += batch_loss\n",
    "    \n",
    "    curr_epoch_loss /= batches_number # Average loss over the batches (training loss)\n",
    "\n",
    "    # validation loss\n",
    "    input_batch, target_batch = mnist.validation.next_batch(mnist.validation._num_examples)\n",
    "\n",
    "    validation_loss, validation_accuracy = sess.run([mean_loss, accuracy],\n",
    "                                                    feed_dict={inputs: input_batch, targets: target_batch})\n",
    "\n",
    "    print('Epoch ' + str(epoch_counter+1)+\n",
    "            '. Training loss: ' + '{0:.3f}'.format(curr_epoch_loss)+\n",
    "            '. Validation loss: ' + '{0:.3f}'.format(validation_loss)+\n",
    "            '. Validation accuracy: ' + '{0:.2f}'.format(validation_accuracy * 100.) + '%')\n",
    "    \n",
    "    # Early Stopping\n",
    "    if validation_loss > prev_validation_loss:\n",
    "        break\n",
    "\n",
    "    prev_validation_loss = validation_loss\n",
    "\n",
    "print('End of training.')"
   ]
  },
  {
   "cell_type": "markdown",
   "metadata": {},
   "source": [
    "#### Test"
   ]
  },
  {
   "cell_type": "code",
   "execution_count": null,
   "metadata": {},
   "outputs": [],
   "source": [
    "input_batch, target_batch = mnist.test.next_batch(mnist.test._num_examples)\n",
    "test_accuracy = sess.run([accuracy],\n",
    "                        feed_dict={inputs: input_batch, targets: target_batch})\n",
    "\n",
    "test_accuracy_percent = test_accuracy[0] * 100.\n",
    "\n",
    "print('Test accuracy: ' + '{0:.2f}'.format(test_accuracy_percent) + '%')"
   ]
  }
 ],
 "metadata": {
  "interpreter": {
   "hash": "e39a0c7faa510b0f53a3ebe396e528d1555f32e92f6931e3a223e579733b4028"
  },
  "kernelspec": {
   "display_name": "Python 3.7.4 ('base')",
   "language": "python",
   "name": "python3"
  },
  "language_info": {
   "name": "python",
   "version": "3.7.4"
  },
  "orig_nbformat": 4
 },
 "nbformat": 4,
 "nbformat_minor": 2
}
