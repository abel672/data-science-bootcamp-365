{
 "cells": [
  {
   "cell_type": "code",
   "execution_count": null,
   "metadata": {},
   "outputs": [],
   "source": []
  },
  {
   "cell_type": "markdown",
   "metadata": {},
   "source": [
    "Take the model we created as a basis and try to improve it.\n",
    "\n",
    "One of the biggest changes will be observed when you include the 'Model' feature we dropped in the beginning.\n",
    "\n",
    "Here are some other suggestions:\n",
    "\n",
    "-> Perform feature selection\n",
    "\n",
    "-> Create a regression where 'Price' is not transformed\n",
    "\n",
    "-> Deal with the outliers in a different way"
   ]
  },
  {
   "cell_type": "markdown",
   "metadata": {},
   "source": [
    "[Dealing with outliers](https://www.projectpro.io/recipes/deal-with-outliers-in-python)\n",
    "\n",
    "[Dealing with outliers medium](https://towardsdatascience.com/detecting-and-treating-outliers-in-python-part-1-4ece5098b755)\n",
    "\n",
    "Create a regression where the 'Price' is not transformed.\n",
    "\n",
    "05-Practical-example-linear-regression\n",
    "03-Feature-selection"
   ]
  }
 ],
 "metadata": {
  "interpreter": {
   "hash": "e39a0c7faa510b0f53a3ebe396e528d1555f32e92f6931e3a223e579733b4028"
  },
  "kernelspec": {
   "display_name": "Python 3.7.4 64-bit ('base': conda)",
   "language": "python",
   "name": "python3"
  },
  "language_info": {
   "name": "python",
   "version": "3.7.4"
  },
  "orig_nbformat": 4
 },
 "nbformat": 4,
 "nbformat_minor": 2
}
