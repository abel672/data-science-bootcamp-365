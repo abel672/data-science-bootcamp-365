{
 "cells": [
  {
   "cell_type": "markdown",
   "metadata": {},
   "source": [
    "### Create a machine learning algorithm\n",
    "\n",
    "##### Import the relevant libraries"
   ]
  },
  {
   "cell_type": "code",
   "execution_count": 1,
   "metadata": {},
   "outputs": [],
   "source": [
    "import numpy as np\n",
    "import tensorflow as tf"
   ]
  },
  {
   "cell_type": "markdown",
   "metadata": {},
   "source": [
    "#### Data"
   ]
  },
  {
   "cell_type": "code",
   "execution_count": 2,
   "metadata": {},
   "outputs": [],
   "source": [
    "npz = np.load('Audiobooks_data_train.npz')\n",
    "\n",
    "train_inputs = npz['inputs'].astype(np.float)\n",
    "train_targets = npz['targets'].astype(np.int)\n",
    "\n",
    "npz = np.load('Audiobooks_data_validation.npz')\n",
    "validation_inputs, validation_targets = npz['inputs'].astype(np.float), npz['targets'].astype(np.int)\n",
    "\n",
    "npz = np.load('Audiobooks_data_test.npz')\n",
    "test_inputs, test_targets = npz['inputs'].astype(np.float), npz['targets'].astype(np.int)"
   ]
  },
  {
   "cell_type": "markdown",
   "metadata": {},
   "source": [
    "#### Model\n",
    "\n",
    "Outline, optimizers, loss, early stopping and training"
   ]
  },
  {
   "cell_type": "code",
   "execution_count": 4,
   "metadata": {},
   "outputs": [
    {
     "name": "stdout",
     "output_type": "stream",
     "text": [
      "Epoch 1/100\n",
      "36/36 - 1s - loss: 1.7435 - accuracy: 0.5219 - val_loss: 1.1543 - val_accuracy: 0.7069\n",
      "Epoch 2/100\n",
      "36/36 - 0s - loss: 0.8015 - accuracy: 0.7077 - val_loss: 0.5983 - val_accuracy: 0.7472\n",
      "Epoch 3/100\n",
      "36/36 - 0s - loss: 0.5215 - accuracy: 0.7505 - val_loss: 0.4921 - val_accuracy: 0.7494\n",
      "Epoch 4/100\n",
      "36/36 - 0s - loss: 0.4517 - accuracy: 0.7768 - val_loss: 0.4473 - val_accuracy: 0.7517\n",
      "Epoch 5/100\n",
      "36/36 - 0s - loss: 0.4160 - accuracy: 0.7893 - val_loss: 0.4191 - val_accuracy: 0.7830\n",
      "Epoch 6/100\n",
      "36/36 - 0s - loss: 0.3937 - accuracy: 0.7977 - val_loss: 0.4034 - val_accuracy: 0.7562\n",
      "Epoch 7/100\n",
      "36/36 - 0s - loss: 0.3842 - accuracy: 0.7893 - val_loss: 0.3988 - val_accuracy: 0.7606\n",
      "Epoch 8/100\n",
      "36/36 - 0s - loss: 0.3730 - accuracy: 0.7974 - val_loss: 0.3862 - val_accuracy: 0.7673\n",
      "Epoch 9/100\n",
      "36/36 - 0s - loss: 0.3642 - accuracy: 0.8025 - val_loss: 0.3851 - val_accuracy: 0.7629\n",
      "Epoch 10/100\n",
      "36/36 - 0s - loss: 0.3566 - accuracy: 0.8159 - val_loss: 0.3842 - val_accuracy: 0.7629\n",
      "Epoch 11/100\n",
      "36/36 - 0s - loss: 0.3541 - accuracy: 0.8055 - val_loss: 0.3735 - val_accuracy: 0.7740\n",
      "Epoch 12/100\n",
      "36/36 - 0s - loss: 0.3483 - accuracy: 0.8122 - val_loss: 0.3765 - val_accuracy: 0.8054\n",
      "Epoch 13/100\n",
      "36/36 - 0s - loss: 0.3465 - accuracy: 0.8145 - val_loss: 0.3736 - val_accuracy: 0.7718\n"
     ]
    },
    {
     "data": {
      "text/plain": [
       "<tensorflow.python.keras.callbacks.History at 0x7fa9a3a2da50>"
      ]
     },
     "execution_count": 4,
     "metadata": {},
     "output_type": "execute_result"
    }
   ],
   "source": [
    "input_size = 784\n",
    "output_size = 10\n",
    "hidden_layer_size = 50\n",
    "\n",
    "model = tf.keras.Sequential([\n",
    "                                tf.keras.layers.Dense(hidden_layer_size, activation='relu'),\n",
    "                                tf.keras.layers.Dense(hidden_layer_size, activation='relu'),\n",
    "                                tf.keras.layers.Dense(output_size, activation='softmax')\n",
    "])\n",
    "\n",
    "model.compile(optimizer='adam', loss='sparse_categorical_crossentropy', metrics=['accuracy'])\n",
    "\n",
    "BATCH_SIZE = 100\n",
    "\n",
    "MAX_EPOCHS = 100\n",
    "\n",
    "early_stopping = tf.keras.callbacks.EarlyStopping(patience=2)\n",
    "\n",
    "model.fit(\n",
    "    train_inputs,\n",
    "    train_targets,\n",
    "    batch_size=BATCH_SIZE,\n",
    "    epochs=MAX_EPOCHS,\n",
    "    callbacks=[early_stopping],\n",
    "    validation_data=(validation_inputs, validation_targets),\n",
    "    verbose=2\n",
    ")"
   ]
  },
  {
   "cell_type": "markdown",
   "metadata": {},
   "source": [
    "#### Test the model"
   ]
  },
  {
   "cell_type": "code",
   "execution_count": 5,
   "metadata": {},
   "outputs": [
    {
     "name": "stdout",
     "output_type": "stream",
     "text": [
      "14/14 [==============================] - 0s 1ms/step - loss: 0.3634 - accuracy: 0.8125\n"
     ]
    }
   ],
   "source": [
    "test_loss, test_accuracy = model.evaluate(test_inputs, test_targets)"
   ]
  },
  {
   "cell_type": "code",
   "execution_count": 6,
   "metadata": {},
   "outputs": [
    {
     "name": "stdout",
     "output_type": "stream",
     "text": [
      "Test loss: 0.36. Test accuracy: 81.25%\n"
     ]
    }
   ],
   "source": [
    "print('Test loss: {0:.2f}. Test accuracy: {1:.2f}%'.format(test_loss, test_accuracy*100)) "
   ]
  }
 ],
 "metadata": {
  "interpreter": {
   "hash": "e39a0c7faa510b0f53a3ebe396e528d1555f32e92f6931e3a223e579733b4028"
  },
  "kernelspec": {
   "display_name": "Python 3.7.4 ('base')",
   "language": "python",
   "name": "python3"
  },
  "language_info": {
   "codemirror_mode": {
    "name": "ipython",
    "version": 3
   },
   "file_extension": ".py",
   "mimetype": "text/x-python",
   "name": "python",
   "nbconvert_exporter": "python",
   "pygments_lexer": "ipython3",
   "version": "3.7.4"
  },
  "orig_nbformat": 4
 },
 "nbformat": 4,
 "nbformat_minor": 2
}
