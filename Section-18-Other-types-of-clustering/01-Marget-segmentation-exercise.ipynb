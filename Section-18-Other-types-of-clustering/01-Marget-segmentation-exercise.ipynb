{
 "cells": [
  {
   "cell_type": "markdown",
   "metadata": {},
   "source": [
    "Create a heatmap with the market segmentation data set.\n",
    "\n",
    "Separate it into clusters"
   ]
  }
 ],
 "metadata": {
  "language_info": {
   "name": "python"
  },
  "orig_nbformat": 4
 },
 "nbformat": 4,
 "nbformat_minor": 2
}
